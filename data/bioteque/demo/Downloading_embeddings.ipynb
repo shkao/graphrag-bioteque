{
 "cells": [
  {
   "cell_type": "markdown",
   "id": "b1da3610-942e-41b0-8062-8da4bb61214f",
   "metadata": {},
   "source": [
    "# **Retrieving data from the resource programatically**"
   ]
  },
  {
   "cell_type": "markdown",
   "id": "8eb230bd-25b6-41d8-bec0-858a9d1b7ef0",
   "metadata": {},
   "source": [
    "In this notebook we show how to download Bioteque embeddings and other metadata from the resource progamatically"
   ]
  },
  {
   "cell_type": "code",
   "execution_count": 1,
   "id": "c4478e5b-a076-4a4f-abb3-5791019bed3a",
   "metadata": {},
   "outputs": [],
   "source": [
    "import os\n",
    "import sys\n",
    "import h5py\n",
    "import numpy as np\n",
    "import pandas as pd\n",
    "import tarfile\n",
    "import urllib\n",
    "\n"
   ]
  },
  {
   "cell_type": "markdown",
   "id": "a4115174-64aa-41dd-adfb-78b05611ca59",
   "metadata": {},
   "source": [
    "## **1) Downloading embeddings from the Bioteque resource**"
   ]
  },
  {
   "cell_type": "markdown",
   "id": "774c9c13-9c2b-4a04-a4ef-5903ece38851",
   "metadata": {},
   "source": [
    "You can request the proper url from the bioteque page in order to download the data.\n",
    "\n",
    "The main downloadding url is: https://bioteque.irbbarcelona.org/downloads/embeddings.\n",
    "\n",
    "There embeddings are place according to their source entity, metapath and dataset (separated\n",
    "by the symbol: >) in a file called *embeddings.tar.gz* (e.g. https://bioteque.irbbarcelona.org/downloads/embeddings>GEN>GEN-ppi-GEN>string/embeddings.tar.gz). Alternatively, you can download all the embedding datasets avaiable for a given metapath by accessing to the file *all_datasets_embeddings.tar* inside the metapath folder (e.g.https://bioteque.irbbarcelona.org/downloads/embeddings>GEN>GEN-ppi-GEN/all_datasets_embeddings.tar.gz).\n",
    "\n",
    "Here we have prepared a function that will automatically download and uncompress the embedding of your mp (and dataset) of interest:"
   ]
  },
  {
   "cell_type": "code",
   "execution_count": 2,
   "id": "0b69857a-7f6b-46fa-bb87-286a2c049030",
   "metadata": {},
   "outputs": [],
   "source": [
    "downloading_root = 'http://biotequetest.irbbarcelona.org/downloads'\n",
    "\n",
    "#The download function\n",
    "def download_embbeding(mp,dt=None , out_path = './', uncompress = True):\n",
    "    \"\"\"\n",
    "    Given a metapath and a dataset it downloads the embedding from the Bioteque.\n",
    "    If no dataset is provided, it dowloands all the datasets available for the metapath.\n",
    "    \"\"\"\n",
    "\n",
    "    \n",
    "    mnd = mp[:3]\n",
    "    if dt is None:\n",
    "        url = downloading_root.rstrip('/')+'/embeddings>%s>%s/all_datasets_embeddings.tar'%(mnd,mp)\n",
    "    else:\n",
    "        url = downloading_root.rstrip('/')+'/embeddings>%s>%s>%s/embeddings.tar.gz'%(mnd,mp,dt)\n",
    "\n",
    "    #--Testing if exists\n",
    "    response = urllib.request.urlopen(url)\n",
    "    if response.getcode() != 200:\n",
    "        sys.exit('The provided url does not exists:\\n\"%s\"\\n'%url)\n",
    "\n",
    "    #--Creating output file system\n",
    "    opath = out_path+'/%s/%s'%(mp,dt) if dt is not None else out_path+'/%s'%(mp)\n",
    "    if not os.path.exists(opath):\n",
    "        os.makedirs(opath)\n",
    "    ofile = opath+'/%s'%url.split('/')[-1]\n",
    "        \n",
    "    #--Fetching\n",
    "    urllib.request.urlretrieve(url, ofile) \n",
    "    \n",
    "    #--Uncompressing\n",
    "    if uncompress is True:\n",
    "        with tarfile.open(ofile) as f:\n",
    "            subfiles  = f.getnames()\n",
    "            f.extractall(opath)     \n",
    "            os.remove(ofile)\n",
    "\n",
    "        for _ in subfiles:\n",
    "            if '.tar.gz' in _:\n",
    "                k = opath+'/%s'%_\n",
    "                with tarfile.open(k) as f:\n",
    "                    f.extractall('/'.join(k.rstrip('/').split('/')[:-1]))\n",
    "                    os.remove(k)\n",
    " "
   ]
  },
  {
   "cell_type": "code",
   "execution_count": 3,
   "id": "d3a86c01-0965-4018-92b1-41e62c2587d3",
   "metadata": {},
   "outputs": [],
   "source": [
    "#Setting paths and variables\n",
    "\n",
    "mp = 'CLL-dwr+upr-GEN-dwr+upr-CLL'\n",
    "dt = 'ccle_rna-ccle_rna'\n",
    "\n",
    "source_entity = mp[:3]\n",
    "target_entity = mp[-3:]\n",
    "\n",
    "out_path = './embedding_folder/' # Path to the embedding data\n",
    "uncompress = True\n",
    "\n",
    "#--Downloading\n",
    "download_embbeding(mp,dt=dt, out_path = out_path, uncompress = uncompress)"
   ]
  },
  {
   "cell_type": "markdown",
   "id": "9b578282-4bba-49e5-99eb-6f2423a30e84",
   "metadata": {},
   "source": [
    "Notice that you could use a loop to iteratively download a list of metapath of interest!"
   ]
  },
  {
   "cell_type": "markdown",
   "id": "128a2045-b6ae-4b66-9d88-388b86bf4730",
   "metadata": {},
   "source": [
    "## **2) Retrieving Bioteque metadata**"
   ]
  },
  {
   "cell_type": "markdown",
   "id": "a451a655-7942-4820-a853-cdd294e16c4b",
   "metadata": {},
   "source": [
    "In the previous function, the only requisite is to know which metapath (and dataset) we are interested in. A good start to explore the different options is to make use of the explore page of the Bioteque web: https://bioteque.irbbarcelona.org/. "
   ]
  },
  {
   "cell_type": "markdown",
   "id": "cd3654a3-75d5-4bd0-af2e-2df5ba8052e2",
   "metadata": {},
   "source": [
    "### **2.1) Getting the embedding universe**"
   ]
  },
  {
   "cell_type": "markdown",
   "id": "f2dc396d-a592-4225-a5ba-98ce18c41850",
   "metadata": {},
   "source": [
    "\n",
    "Alternatively, you can have a look at the embedding universe table available at https://bioteque.irbbarcelona.org/downloads/embeddings/embedding_universe.csv. You can read it directly with pandas!"
   ]
  },
  {
   "cell_type": "code",
   "execution_count": 4,
   "id": "53dbdd83-1935-45b7-b97c-2ec483c1a90b",
   "metadata": {},
   "outputs": [
    {
     "data": {
      "text/html": [
       "<div>\n",
       "<style scoped>\n",
       "    .dataframe tbody tr th:only-of-type {\n",
       "        vertical-align: middle;\n",
       "    }\n",
       "\n",
       "    .dataframe tbody tr th {\n",
       "        vertical-align: top;\n",
       "    }\n",
       "\n",
       "    .dataframe thead th {\n",
       "        text-align: right;\n",
       "    }\n",
       "</style>\n",
       "<table border=\"1\" class=\"dataframe\">\n",
       "  <thead>\n",
       "    <tr style=\"text-align: right;\">\n",
       "      <th></th>\n",
       "      <th>L</th>\n",
       "      <th>mnd1</th>\n",
       "      <th>mnd2</th>\n",
       "      <th>metapath</th>\n",
       "      <th>dataset</th>\n",
       "      <th>n1</th>\n",
       "      <th>n2</th>\n",
       "      <th>network preservation (cosine)</th>\n",
       "      <th>network preservation (euclidean)</th>\n",
       "    </tr>\n",
       "  </thead>\n",
       "  <tbody>\n",
       "    <tr>\n",
       "      <th>0</th>\n",
       "      <td>1</td>\n",
       "      <td>CHE</td>\n",
       "      <td>CPD</td>\n",
       "      <td>CHE-has-CPD</td>\n",
       "      <td>chebi</td>\n",
       "      <td>23056</td>\n",
       "      <td>86157</td>\n",
       "      <td>1.00</td>\n",
       "      <td>1.00</td>\n",
       "    </tr>\n",
       "    <tr>\n",
       "      <th>1</th>\n",
       "      <td>1</td>\n",
       "      <td>CLL</td>\n",
       "      <td>CPD</td>\n",
       "      <td>CLL-sns-CPD</td>\n",
       "      <td>ctrpv2_sens</td>\n",
       "      <td>826</td>\n",
       "      <td>477</td>\n",
       "      <td>0.95</td>\n",
       "      <td>0.93</td>\n",
       "    </tr>\n",
       "    <tr>\n",
       "      <th>2</th>\n",
       "      <td>1</td>\n",
       "      <td>CLL</td>\n",
       "      <td>CPD</td>\n",
       "      <td>CLL-sns-CPD</td>\n",
       "      <td>drugcell</td>\n",
       "      <td>1199</td>\n",
       "      <td>609</td>\n",
       "      <td>0.95</td>\n",
       "      <td>0.93</td>\n",
       "    </tr>\n",
       "    <tr>\n",
       "      <th>3</th>\n",
       "      <td>1</td>\n",
       "      <td>CLL</td>\n",
       "      <td>CPD</td>\n",
       "      <td>CLL-sns-CPD</td>\n",
       "      <td>gdsc1000_sens</td>\n",
       "      <td>1002</td>\n",
       "      <td>232</td>\n",
       "      <td>0.93</td>\n",
       "      <td>0.91</td>\n",
       "    </tr>\n",
       "    <tr>\n",
       "      <th>4</th>\n",
       "      <td>1</td>\n",
       "      <td>CLL</td>\n",
       "      <td>CPD</td>\n",
       "      <td>CLL-sns-CPD</td>\n",
       "      <td>nci60_sens</td>\n",
       "      <td>58</td>\n",
       "      <td>17401</td>\n",
       "      <td>1.00</td>\n",
       "      <td>1.00</td>\n",
       "    </tr>\n",
       "  </tbody>\n",
       "</table>\n",
       "</div>"
      ],
      "text/plain": [
       "   L mnd1 mnd2     metapath        dataset     n1     n2  \\\n",
       "0  1  CHE  CPD  CHE-has-CPD          chebi  23056  86157   \n",
       "1  1  CLL  CPD  CLL-sns-CPD    ctrpv2_sens    826    477   \n",
       "2  1  CLL  CPD  CLL-sns-CPD       drugcell   1199    609   \n",
       "3  1  CLL  CPD  CLL-sns-CPD  gdsc1000_sens   1002    232   \n",
       "4  1  CLL  CPD  CLL-sns-CPD     nci60_sens     58  17401   \n",
       "\n",
       "   network preservation (cosine)  network preservation (euclidean)  \n",
       "0                           1.00                              1.00  \n",
       "1                           0.95                              0.93  \n",
       "2                           0.95                              0.93  \n",
       "3                           0.93                              0.91  \n",
       "4                           1.00                              1.00  "
      ]
     },
     "execution_count": 4,
     "metadata": {},
     "output_type": "execute_result"
    }
   ],
   "source": [
    "emb_uv_path = downloading_root+'/embeddings/embedding_universe.csv'\n",
    "emb_uv = pd.read_csv(emb_uv_path)\n",
    "emb_uv.head()"
   ]
  },
  {
   "cell_type": "markdown",
   "id": "f81325b9-b61a-4faf-a05b-9d6e8cf10341",
   "metadata": {},
   "source": [
    "### **2.2) Getting the embedding universe**"
   ]
  },
  {
   "cell_type": "markdown",
   "id": "ac80198a-143e-4bb3-9ed0-a65e4e427a4c",
   "metadata": {},
   "source": [
    "Additionally, we also have provide the embedded node universe for each entity with some metadata. They are under the path https://bioteque.irbbarcelona.org/downloads/node_universe/, and can also be read directly with pandas:"
   ]
  },
  {
   "cell_type": "code",
   "execution_count": 5,
   "id": "5ca3f0bd-f0cd-45fb-a344-5f235136a5e0",
   "metadata": {},
   "outputs": [
    {
     "data": {
      "text/html": [
       "<div>\n",
       "<style scoped>\n",
       "    .dataframe tbody tr th:only-of-type {\n",
       "        vertical-align: middle;\n",
       "    }\n",
       "\n",
       "    .dataframe tbody tr th {\n",
       "        vertical-align: top;\n",
       "    }\n",
       "\n",
       "    .dataframe thead th {\n",
       "        text-align: right;\n",
       "    }\n",
       "</style>\n",
       "<table border=\"1\" class=\"dataframe\">\n",
       "  <thead>\n",
       "    <tr style=\"text-align: right;\">\n",
       "      <th></th>\n",
       "      <th>code</th>\n",
       "      <th>name</th>\n",
       "      <th>type</th>\n",
       "      <th>organism</th>\n",
       "      <th>synonyms</th>\n",
       "      <th>other_ids</th>\n",
       "    </tr>\n",
       "  </thead>\n",
       "  <tbody>\n",
       "    <tr>\n",
       "      <th>0</th>\n",
       "      <td>CVCL_0001</td>\n",
       "      <td>HEL</td>\n",
       "      <td>Cancer cell line</td>\n",
       "      <td>9606</td>\n",
       "      <td>Hel|GM06141|GM06141B|Human ErythroLeukemia</td>\n",
       "      <td>CelloPub=CLPUB00447|DOI=10.1007/978-1-4757-164...</td>\n",
       "    </tr>\n",
       "    <tr>\n",
       "      <th>1</th>\n",
       "      <td>CVCL_0002</td>\n",
       "      <td>HL-60</td>\n",
       "      <td>Cancer cell line</td>\n",
       "      <td>9606</td>\n",
       "      <td>HL 60|HL60</td>\n",
       "      <td>DOI=10.1016/B978-0-12-221970-2.50457-5|DOI=10....</td>\n",
       "    </tr>\n",
       "    <tr>\n",
       "      <th>2</th>\n",
       "      <td>CVCL_0003</td>\n",
       "      <td>HMC-1</td>\n",
       "      <td>Cancer cell line</td>\n",
       "      <td>9606</td>\n",
       "      <td>HMC1</td>\n",
       "      <td>DOI=10.1016/B978-0-12-221970-2.50457-5|PubMed=...</td>\n",
       "    </tr>\n",
       "    <tr>\n",
       "      <th>3</th>\n",
       "      <td>CVCL_0004</td>\n",
       "      <td>K-562</td>\n",
       "      <td>Cancer cell line</td>\n",
       "      <td>9606</td>\n",
       "      <td>K562|K 562|GM05372|GM05372E</td>\n",
       "      <td>CelloPub=CLPUB00447|DOI=10.1016/B978-0-12-2219...</td>\n",
       "    </tr>\n",
       "    <tr>\n",
       "      <th>4</th>\n",
       "      <td>CVCL_0005</td>\n",
       "      <td>NB4</td>\n",
       "      <td>Cancer cell line</td>\n",
       "      <td>9606</td>\n",
       "      <td>NB-4|NB.4</td>\n",
       "      <td>DOI=10.1016/B978-0-12-221970-2.50457-5|Patent=...</td>\n",
       "    </tr>\n",
       "  </tbody>\n",
       "</table>\n",
       "</div>"
      ],
      "text/plain": [
       "        code   name              type organism  \\\n",
       "0  CVCL_0001    HEL  Cancer cell line     9606   \n",
       "1  CVCL_0002  HL-60  Cancer cell line     9606   \n",
       "2  CVCL_0003  HMC-1  Cancer cell line     9606   \n",
       "3  CVCL_0004  K-562  Cancer cell line     9606   \n",
       "4  CVCL_0005    NB4  Cancer cell line     9606   \n",
       "\n",
       "                                     synonyms  \\\n",
       "0  Hel|GM06141|GM06141B|Human ErythroLeukemia   \n",
       "1                                  HL 60|HL60   \n",
       "2                                        HMC1   \n",
       "3                 K562|K 562|GM05372|GM05372E   \n",
       "4                                   NB-4|NB.4   \n",
       "\n",
       "                                           other_ids  \n",
       "0  CelloPub=CLPUB00447|DOI=10.1007/978-1-4757-164...  \n",
       "1  DOI=10.1016/B978-0-12-221970-2.50457-5|DOI=10....  \n",
       "2  DOI=10.1016/B978-0-12-221970-2.50457-5|PubMed=...  \n",
       "3  CelloPub=CLPUB00447|DOI=10.1016/B978-0-12-2219...  \n",
       "4  DOI=10.1016/B978-0-12-221970-2.50457-5|Patent=...  "
      ]
     },
     "execution_count": 5,
     "metadata": {},
     "output_type": "execute_result"
    }
   ],
   "source": [
    "entity = 'CLL' #The entity code we wanna read\n",
    "\n",
    "entity_df = pd.read_csv(downloading_root+'/node_universe/%s.tsv.gz'%entity, sep='\\t')\n",
    "entity_df.head()"
   ]
  },
  {
   "cell_type": "markdown",
   "id": "ab5e55a1-fe71-46a1-ab63-3ee610a36a66",
   "metadata": {},
   "source": [
    "## **3) Reading embeddings (after having downloaded them)**"
   ]
  },
  {
   "cell_type": "markdown",
   "id": "997cf5f3-5f1c-451d-b483-56b83cf56ded",
   "metadata": {},
   "source": [
    "Bioteque embeddings are saved in a Hierarchical Data Format (HDF), especially optimized to save multidimensional data. In python we have the hp5y package which allow us to read, write and modify this documents.\n"
   ]
  },
  {
   "cell_type": "markdown",
   "id": "1379aa60-05c1-4dec-a949-667676ee3f71",
   "metadata": {},
   "source": [
    "**Important**: Some embeddings will have different source and target entities. Embeddings for each entity are kept in separate HD5 files, so you need to read them separately by calling twice the *read_embedding()* function, especifying the entity/metanode (mnd) of interest."
   ]
  },
  {
   "cell_type": "code",
   "execution_count": 6,
   "id": "ffd21a54-2144-45d6-87e7-2edd0669df3f",
   "metadata": {},
   "outputs": [],
   "source": [
    "import h5py\n",
    "\n",
    "def read_embedding(path, entity):\n",
    "    \n",
    "    #--Reads the ids of the embeddings\n",
    "    with open(path+'/%s_ids.txt'%entity) as f:\n",
    "        ids = f.read().splitlines()\n",
    "        \n",
    "    #--Reads the embedding vectors \n",
    "    with h5py.File(path+'/%s_emb.h5'%entity,'r') as f:\n",
    "        emb =  f['m'][:]\n",
    "        \n",
    "    return ids,emb\n",
    "\n",
    "#------------------\n",
    "\n",
    "out_path = './embedding_folder/' # Path to the embedding data\n",
    "mp = 'CLL-dwr+upr-GEN-dwr+upr-CLL'\n",
    "dt = 'ccle_rna-ccle_rna'\n",
    "source_entity = mp[:3]\n",
    "target_entity = mp[-3:]\n",
    "\n",
    "#--Source entity\n",
    "emb_path = out_path+'/%s/%s/'%(mp,dt)\n",
    "ids, emb = read_embedding(emb_path, source_entity)\n",
    "\n",
    "#--Target entity\n",
    "#  --> As target entity (CLL) is the same than source entity (CLL), there is no point in reading them again.\n",
    "\n",
    "# ids2, emb2 = read_embedding(data_path, target_entity) # Not need in this example as source == target"
   ]
  },
  {
   "cell_type": "code",
   "execution_count": null,
   "id": "20a1194b-6445-4c8b-8acb-e1881841a818",
   "metadata": {},
   "outputs": [],
   "source": []
  }
 ],
 "metadata": {
  "kernelspec": {
   "display_name": "Python 3",
   "language": "python",
   "name": "python3"
  },
  "language_info": {
   "codemirror_mode": {
    "name": "ipython",
    "version": 3
   },
   "file_extension": ".py",
   "mimetype": "text/x-python",
   "name": "python",
   "nbconvert_exporter": "python",
   "pygments_lexer": "ipython3",
   "version": "3.7.7"
  },
  "toc-autonumbering": false,
  "toc-showcode": true,
  "toc-showmarkdowntxt": true,
  "toc-showtags": true
 },
 "nbformat": 4,
 "nbformat_minor": 5
}
